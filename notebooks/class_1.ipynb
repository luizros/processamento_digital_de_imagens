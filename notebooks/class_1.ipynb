{
 "cells": [
  {
   "cell_type": "code",
   "execution_count": 4,
   "metadata": {},
   "outputs": [],
   "source": [
    "# how can I read a image using python?\n",
    "import cv2 as cv\n",
    "import matplotlib.pyplot as plt \n",
    "import scipy as sci "
   ]
  },
  {
   "attachments": {},
   "cell_type": "markdown",
   "metadata": {},
   "source": [
    "# O que é uma imagem\n",
    "\n",
    "Em geral, uma imagem é uma representação visual de um objeto, cena ou fenômeno capturada por um dispositivo de imagem, como uma câmera digital. A imagem é composta por uma grade de pixels, que são pequenos pontos que compõem a imagem. Cada pixel possui um valor de intensidade que representa a quantidade de luz que atinge o sensor da câmera naquele ponto.\n",
    "\n",
    "![Exemplo de imagem](../data/Lenna.png)\n",
    "\n",
    "Uma imagem pode ser organizada de diferentes maneiras, sendo a mais simples na forma de uma matriz bidimensional, com altura e largura definidas em pixels. Além disso, cada elemento dessa matriz possui um valor de intensidade que pode variar de 0 a 255, representando os valores de cor para cada pixel em uma imagem em escala de cinza. Quanto mais próximo de 0, mais escuro será o pixel, e quanto mais próximo de 255, mais claro será.\n",
    "\n",
    "No entanto, uma imagem também pode ser representada em cores, usando um modelo de cores como o RGB (vermelho, verde e azul). Nesse caso, cada pixel é composto por três valores de intensidade, um para cada cor primária, e a cor resultante é obtida pela combinação desses valores.\n",
    "\n",
    "Em resumo, uma imagem é uma representação visual de um objeto ou cena, composta por pixels que possuem valores de intensidade que determinam a cor ou tonalidade de cada pixel. A organização da imagem pode variar, e ela pode ser representada em escala de cinza ou em cores"
   ]
  },
  {
   "cell_type": "code",
   "execution_count": 5,
   "metadata": {},
   "outputs": [],
   "source": [
    "# exibindo uma imagem com o opencv\n",
    "img = cv.imread(\"../data/Lenna.png\")\n",
    "cv.imshow(\"Lenna\", img)\n",
    "cv.waitKey(0)\n",
    "cv.destroyAllWindows()"
   ]
  }
 ],
 "metadata": {
  "kernelspec": {
   "display_name": "dev",
   "language": "python",
   "name": "python3"
  },
  "language_info": {
   "codemirror_mode": {
    "name": "ipython",
    "version": 3
   },
   "file_extension": ".py",
   "mimetype": "text/x-python",
   "name": "python",
   "nbconvert_exporter": "python",
   "pygments_lexer": "ipython3",
   "version": "3.11.2"
  },
  "orig_nbformat": 4
 },
 "nbformat": 4,
 "nbformat_minor": 2
}
